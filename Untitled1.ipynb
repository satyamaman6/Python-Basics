{
 "cells": [
  {
   "cell_type": "code",
   "execution_count": 1,
   "id": "9d0ed78e",
   "metadata": {},
   "outputs": [
    {
     "data": {
      "text/plain": [
       "5"
      ]
     },
     "execution_count": 1,
     "metadata": {},
     "output_type": "execute_result"
    }
   ],
   "source": [
    "len('Hello')"
   ]
  },
  {
   "cell_type": "code",
   "execution_count": 4,
   "id": "0373a051",
   "metadata": {},
   "outputs": [
    {
     "data": {
      "text/plain": [
       "17"
      ]
     },
     "execution_count": 4,
     "metadata": {},
     "output_type": "execute_result"
    }
   ],
   "source": [
    "len(\"My Name is satyam\")"
   ]
  },
  {
   "cell_type": "code",
   "execution_count": 5,
   "id": "f790e555",
   "metadata": {},
   "outputs": [],
   "source": [
    "Mystring = \"Hi baby\""
   ]
  },
  {
   "cell_type": "code",
   "execution_count": 6,
   "id": "4b754f04",
   "metadata": {},
   "outputs": [
    {
     "data": {
      "text/plain": [
       "'Hi baby'"
      ]
     },
     "execution_count": 6,
     "metadata": {},
     "output_type": "execute_result"
    }
   ],
   "source": [
    "Mystring"
   ]
  },
  {
   "cell_type": "code",
   "execution_count": 7,
   "id": "2f7a6e5a",
   "metadata": {},
   "outputs": [
    {
     "data": {
      "text/plain": [
       "'b'"
      ]
     },
     "execution_count": 7,
     "metadata": {},
     "output_type": "execute_result"
    }
   ],
   "source": [
    "Mystring[5] we are try to check the indexing of the string"
   ]
  },
  {
   "cell_type": "code",
   "execution_count": 8,
   "id": "0361b11d",
   "metadata": {},
   "outputs": [],
   "source": [
    "Name = \"My Name is satyam. And i am working with an IT Firm\""
   ]
  },
  {
   "cell_type": "code",
   "execution_count": 12,
   "id": "83ac6f55",
   "metadata": {},
   "outputs": [
    {
     "data": {
      "text/plain": [
       "'M aei aym n  mwrigwt nI im'"
      ]
     },
     "execution_count": 12,
     "metadata": {},
     "output_type": "execute_result"
    }
   ],
   "source": [
    "Name[::2]"
   ]
  },
  {
   "cell_type": "code",
   "execution_count": 16,
   "id": "e59b5b66",
   "metadata": {},
   "outputs": [
    {
     "data": {
      "text/plain": [
       "' Name is '"
      ]
     },
     "execution_count": 16,
     "metadata": {},
     "output_type": "execute_result"
    }
   ],
   "source": [
    "Name[2:11]"
   ]
  },
  {
   "cell_type": "code",
   "execution_count": 20,
   "id": "5ddaf4ae",
   "metadata": {},
   "outputs": [
    {
     "data": {
      "text/plain": [
       "'mriF TI na htiw gnikrow ma i dnA .maytas si emaN yM'"
      ]
     },
     "execution_count": 20,
     "metadata": {},
     "output_type": "execute_result"
    }
   ],
   "source": [
    "Name[::-1] //TO Reverese String"
   ]
  },
  {
   "cell_type": "code",
   "execution_count": 24,
   "id": "1f909870",
   "metadata": {},
   "outputs": [
    {
     "data": {
      "text/plain": [
       "'yNm ssta.Adia okn ih'"
      ]
     },
     "execution_count": 24,
     "metadata": {},
     "output_type": "execute_result"
    }
   ],
   "source": [
    "Name[1:40:2]"
   ]
  },
  {
   "cell_type": "markdown",
   "id": "8c7cb5bc",
   "metadata": {},
   "source": [
    "#Change the index of a string for that we need to concate"
   ]
  },
  {
   "cell_type": "code",
   "execution_count": 35,
   "id": "43caf325",
   "metadata": {},
   "outputs": [],
   "source": [
    "City = \"Delhi\""
   ]
  },
  {
   "cell_type": "code",
   "execution_count": 32,
   "id": "7197aea9",
   "metadata": {},
   "outputs": [],
   "source": [
    "lastw = \"elhi\""
   ]
  },
  {
   "cell_type": "code",
   "execution_count": 34,
   "id": "619ea846",
   "metadata": {},
   "outputs": [
    {
     "data": {
      "text/plain": [
       "'Pelhi'"
      ]
     },
     "execution_count": 34,
     "metadata": {},
     "output_type": "execute_result"
    }
   ],
   "source": [
    "\"P\"+ lastw #THis is called string concatination"
   ]
  },
  {
   "cell_type": "code",
   "execution_count": 40,
   "id": "c0366590",
   "metadata": {},
   "outputs": [],
   "source": [
    "Message = \"Hello World,\""
   ]
  },
  {
   "cell_type": "code",
   "execution_count": 41,
   "id": "739e36bc",
   "metadata": {},
   "outputs": [
    {
     "data": {
      "text/plain": [
       "'Hello World, It is beautifule.'"
      ]
     },
     "execution_count": 41,
     "metadata": {},
     "output_type": "execute_result"
    }
   ],
   "source": [
    "Message + \" It is beautifule.\""
   ]
  },
  {
   "cell_type": "code",
   "execution_count": 42,
   "id": "870a1189",
   "metadata": {},
   "outputs": [],
   "source": [
    "x = Message + \"It is beautifule Outside\""
   ]
  },
  {
   "cell_type": "code",
   "execution_count": 49,
   "id": "0742ef0d",
   "metadata": {},
   "outputs": [
    {
     "data": {
      "text/plain": [
       "'Hello World,It is beautifule Outside'"
      ]
     },
     "execution_count": 49,
     "metadata": {},
     "output_type": "execute_result"
    }
   ],
   "source": [
    "Message"
   ]
  },
  {
   "cell_type": "code",
   "execution_count": 53,
   "id": "8d5a4d89",
   "metadata": {},
   "outputs": [
    {
     "data": {
      "text/plain": [
       "36"
      ]
     },
     "execution_count": 53,
     "metadata": {},
     "output_type": "execute_result"
    }
   ],
   "source": [
    "len(Message)"
   ]
  },
  {
   "cell_type": "code",
   "execution_count": 70,
   "id": "5c7cc683",
   "metadata": {},
   "outputs": [],
   "source": [
    "Letter = 'z'"
   ]
  },
  {
   "cell_type": "code",
   "execution_count": 71,
   "id": "b66ca49f",
   "metadata": {},
   "outputs": [
    {
     "data": {
      "text/plain": [
       "'zzzzzzzzzzzzzzzzzzz'"
      ]
     },
     "execution_count": 71,
     "metadata": {},
     "output_type": "execute_result"
    }
   ],
   "source": [
    "Letter * 19"
   ]
  },
  {
   "cell_type": "code",
   "execution_count": 72,
   "id": "fc007144",
   "metadata": {},
   "outputs": [
    {
     "data": {
      "text/plain": [
       "5"
      ]
     },
     "execution_count": 72,
     "metadata": {},
     "output_type": "execute_result"
    }
   ],
   "source": [
    "2 + 3 # Sum of numbers"
   ]
  },
  {
   "cell_type": "code",
   "execution_count": 73,
   "id": "a45227a0",
   "metadata": {},
   "outputs": [
    {
     "data": {
      "text/plain": [
       "'23'"
      ]
     },
     "execution_count": 73,
     "metadata": {},
     "output_type": "execute_result"
    }
   ],
   "source": [
    "'2' + '3' #Concatination of string "
   ]
  },
  {
   "cell_type": "code",
   "execution_count": 74,
   "id": "a5cf0a99",
   "metadata": {},
   "outputs": [],
   "source": [
    "#WE have to very careful about the data type because python is very dynamic language."
   ]
  },
  {
   "cell_type": "code",
   "execution_count": 75,
   "id": "1e952e41",
   "metadata": {},
   "outputs": [],
   "source": [
    "x = 'Hello world'"
   ]
  },
  {
   "cell_type": "code",
   "execution_count": 77,
   "id": "25a7bf04",
   "metadata": {},
   "outputs": [],
   "source": [
    "#  x.  ##while pressing Tab after . all the operation that can be apply over string will appear."
   ]
  },
  {
   "cell_type": "code",
   "execution_count": 80,
   "id": "20ea0230",
   "metadata": {},
   "outputs": [
    {
     "data": {
      "text/plain": [
       "'HELLO WORLD'"
      ]
     },
     "execution_count": 80,
     "metadata": {},
     "output_type": "execute_result"
    }
   ],
   "source": [
    "x.upper()"
   ]
  },
  {
   "cell_type": "code",
   "execution_count": 81,
   "id": "ccd0ee2e",
   "metadata": {},
   "outputs": [
    {
     "data": {
      "text/plain": [
       "'hello world'"
      ]
     },
     "execution_count": 81,
     "metadata": {},
     "output_type": "execute_result"
    }
   ],
   "source": [
    "x.lower()"
   ]
  },
  {
   "cell_type": "code",
   "execution_count": 85,
   "id": "aac4144c",
   "metadata": {},
   "outputs": [
    {
     "data": {
      "text/plain": [
       "['Hello', 'world']"
      ]
     },
     "execution_count": 85,
     "metadata": {},
     "output_type": "execute_result"
    }
   ],
   "source": [
    "New = x.split()"
   ]
  },
  {
   "cell_type": "code",
   "execution_count": 88,
   "id": "6c407a0e",
   "metadata": {},
   "outputs": [
    {
     "data": {
      "text/plain": [
       "'Hello world'"
      ]
     },
     "execution_count": 88,
     "metadata": {},
     "output_type": "execute_result"
    }
   ],
   "source": [
    "x"
   ]
  },
  {
   "cell_type": "code",
   "execution_count": 91,
   "id": "03b5ec5e",
   "metadata": {},
   "outputs": [],
   "source": [
    "y = x.upper()"
   ]
  },
  {
   "cell_type": "code",
   "execution_count": 92,
   "id": "fe90f2c3",
   "metadata": {},
   "outputs": [
    {
     "data": {
      "text/plain": [
       "'HELLO WORLD'"
      ]
     },
     "execution_count": 92,
     "metadata": {},
     "output_type": "execute_result"
    }
   ],
   "source": [
    "y"
   ]
  },
  {
   "cell_type": "code",
   "execution_count": 97,
   "id": "06d5dce1",
   "metadata": {},
   "outputs": [],
   "source": [
    "z = x.lower()"
   ]
  },
  {
   "cell_type": "code",
   "execution_count": 98,
   "id": "0033b6fe",
   "metadata": {},
   "outputs": [
    {
     "data": {
      "text/plain": [
       "'hello world'"
      ]
     },
     "execution_count": 98,
     "metadata": {},
     "output_type": "execute_result"
    }
   ],
   "source": [
    "z"
   ]
  },
  {
   "cell_type": "code",
   "execution_count": 99,
   "id": "415f7964",
   "metadata": {},
   "outputs": [],
   "source": [
    "g = \"Hi this is string and we want to implement multiple methods over string\""
   ]
  },
  {
   "cell_type": "code",
   "execution_count": 102,
   "id": "5175694b",
   "metadata": {},
   "outputs": [
    {
     "data": {
      "text/plain": [
       "['Hi',\n",
       " 'this',\n",
       " 'is',\n",
       " 'string',\n",
       " 'and',\n",
       " 'we',\n",
       " 'want',\n",
       " 'to',\n",
       " 'implement',\n",
       " 'multiple',\n",
       " 'methods',\n",
       " 'over',\n",
       " 'string']"
      ]
     },
     "execution_count": 102,
     "metadata": {},
     "output_type": "execute_result"
    }
   ],
   "source": [
    "g.split() #this will create a list of all the words given in the string."
   ]
  },
  {
   "cell_type": "code",
   "execution_count": 104,
   "id": "a7531e4e",
   "metadata": {},
   "outputs": [
    {
     "data": {
      "text/plain": [
       "['H',\n",
       " ' th',\n",
       " 's ',\n",
       " 's str',\n",
       " 'ng and we want to ',\n",
       " 'mplement mult',\n",
       " 'ple methods over str',\n",
       " 'ng']"
      ]
     },
     "execution_count": 104,
     "metadata": {},
     "output_type": "execute_result"
    }
   ],
   "source": [
    "g.split('i') #This will split where there is i in anywhere"
   ]
  },
  {
   "cell_type": "code",
   "execution_count": 106,
   "id": "4d3c3ffe",
   "metadata": {},
   "outputs": [
    {
     "data": {
      "text/plain": [
       "['Hi this is string and we want t',\n",
       " ' implement multiple meth',\n",
       " 'ds ',\n",
       " 'ver string']"
      ]
     },
     "execution_count": 106,
     "metadata": {},
     "output_type": "execute_result"
    }
   ],
   "source": [
    "g.split('o') #this will split untill there is o in the string"
   ]
  },
  {
   "cell_type": "code",
   "execution_count": 108,
   "id": "2c928930",
   "metadata": {},
   "outputs": [],
   "source": [
    "#Formating with    ---->>>>>> String manupulation"
   ]
  },
  {
   "cell_type": "code",
   "execution_count": 109,
   "id": "a6507fe3",
   "metadata": {},
   "outputs": [],
   "source": [
    "#Formating with the .format()method. This is the good method to format object into your strings for print statements is with the string .format() method. the syntax is: \n",
    "# String here{} then also{}.format('somethind1','something2')"
   ]
  },
  {
   "cell_type": "code",
   "execution_count": 110,
   "id": "fec921e3",
   "metadata": {},
   "outputs": [
    {
     "name": "stdout",
     "output_type": "stream",
     "text": [
      "This is string INSERT\n"
     ]
    }
   ],
   "source": [
    "print('This is string {}'.format('INSERTD')) # this is the new method to concate the string."
   ]
  },
  {
   "cell_type": "code",
   "execution_count": 111,
   "id": "64988948",
   "metadata": {},
   "outputs": [
    {
     "data": {
      "text/plain": [
       "'Hi this is string and we want to implement multiple methods over string'"
      ]
     },
     "execution_count": 111,
     "metadata": {},
     "output_type": "execute_result"
    }
   ],
   "source": [
    "g"
   ]
  },
  {
   "cell_type": "code",
   "execution_count": 115,
   "id": "c68ed6b4",
   "metadata": {},
   "outputs": [
    {
     "name": "stdout",
     "output_type": "stream",
     "text": [
      "Rohit Hello\n"
     ]
    }
   ],
   "source": [
    "print('Rohit {}'.format('Hello'))"
   ]
  },
  {
   "cell_type": "code",
   "execution_count": 116,
   "id": "4f15cf5d",
   "metadata": {},
   "outputs": [
    {
     "name": "stdout",
     "output_type": "stream",
     "text": [
      "the Fox Cow Hen\n"
     ]
    }
   ],
   "source": [
    "print('the {} {} {}'.format('Fox','Cow','Hen'))"
   ]
  },
  {
   "cell_type": "code",
   "execution_count": 117,
   "id": "76e4b369",
   "metadata": {},
   "outputs": [],
   "source": [
    "# Above method is the another way of adding or concatinating to the string.\n"
   ]
  },
  {
   "cell_type": "code",
   "execution_count": 118,
   "id": "d7c155a8",
   "metadata": {},
   "outputs": [
    {
     "name": "stdout",
     "output_type": "stream",
     "text": [
      "the Hen Cow Fox\n"
     ]
    }
   ],
   "source": [
    "print('the {2} {1} {0}'.format('Fox','Cow','Hen'))"
   ]
  },
  {
   "cell_type": "code",
   "execution_count": 119,
   "id": "b24ab5c1",
   "metadata": {},
   "outputs": [],
   "source": [
    "#We can change the index of the given value by placing the values in the index\n"
   ]
  },
  {
   "cell_type": "code",
   "execution_count": 120,
   "id": "5854ba4f",
   "metadata": {},
   "outputs": [
    {
     "name": "stdout",
     "output_type": "stream",
     "text": [
      "the Cow Cow Cow\n"
     ]
    }
   ],
   "source": [
    "print('the {1} {1} {1}'.format('Fox','Cow','Hen'))"
   ]
  },
  {
   "cell_type": "code",
   "execution_count": 121,
   "id": "2b09acbf",
   "metadata": {},
   "outputs": [],
   "source": [
    "#We can also assign the keyword and call the keywords."
   ]
  },
  {
   "cell_type": "code",
   "execution_count": 123,
   "id": "0ca49d25",
   "metadata": {},
   "outputs": [
    {
     "name": "stdout",
     "output_type": "stream",
     "text": [
      "the Cow Fox Hen\n"
     ]
    }
   ],
   "source": [
    "print('the {c} {f} {h}'.format(f='Fox',c='Cow',h='Hen'))"
   ]
  },
  {
   "cell_type": "code",
   "execution_count": 124,
   "id": "5fa8a191",
   "metadata": {},
   "outputs": [],
   "source": [
    "#Here we are printing the values."
   ]
  },
  {
   "cell_type": "code",
   "execution_count": 125,
   "id": "24c5e22a",
   "metadata": {},
   "outputs": [],
   "source": [
    "#Float formating method"
   ]
  },
  {
   "cell_type": "code",
   "execution_count": 129,
   "id": "9f9a5fc9",
   "metadata": {},
   "outputs": [],
   "source": [
    "result = 75588/22"
   ]
  },
  {
   "cell_type": "code",
   "execution_count": 136,
   "id": "e1ca25d9",
   "metadata": {},
   "outputs": [
    {
     "data": {
      "text/plain": [
       "3435.818181818182"
      ]
     },
     "execution_count": 136,
     "metadata": {},
     "output_type": "execute_result"
    }
   ],
   "source": [
    "result"
   ]
  },
  {
   "cell_type": "code",
   "execution_count": 142,
   "id": "76a80963",
   "metadata": {},
   "outputs": [
    {
     "name": "stdout",
     "output_type": "stream",
     "text": [
      "The result was 3435.818181818182\n"
     ]
    }
   ],
   "source": [
    "print('The result was {}'.format(result))"
   ]
  },
  {
   "cell_type": "code",
   "execution_count": 143,
   "id": "49906b67",
   "metadata": {},
   "outputs": [],
   "source": [
    "#Now we will use float formating to find the value upto the precision level"
   ]
  },
  {
   "cell_type": "code",
   "execution_count": 150,
   "id": "95e00ac5",
   "metadata": {},
   "outputs": [
    {
     "name": "stdout",
     "output_type": "stream",
     "text": [
      "The result was 3435.818\n"
     ]
    }
   ],
   "source": [
    "print(\"The result was {r:1.3f}\".format(r=result)) # \"{value:width.precision f}\""
   ]
  },
  {
   "cell_type": "code",
   "execution_count": 151,
   "id": "6af46c89",
   "metadata": {},
   "outputs": [
    {
     "name": "stdout",
     "output_type": "stream",
     "text": [
      "The result was 3435.81818\n"
     ]
    }
   ],
   "source": [
    "print(\"The result was {r:1.5f}\".format(r=result)) # \"{value:width.precision f}\""
   ]
  },
  {
   "cell_type": "code",
   "execution_count": 158,
   "id": "22a2db43",
   "metadata": {},
   "outputs": [],
   "source": [
    "name = \"raj\""
   ]
  },
  {
   "cell_type": "code",
   "execution_count": 159,
   "id": "68803513",
   "metadata": {},
   "outputs": [
    {
     "name": "stdout",
     "output_type": "stream",
     "text": [
      "Hello , his name is raj\n"
     ]
    }
   ],
   "source": [
    "print('Hello , his name is {}'.format(name))"
   ]
  },
  {
   "cell_type": "code",
   "execution_count": 160,
   "id": "5a0fe28a",
   "metadata": {},
   "outputs": [],
   "source": [
    "#another way of doing the same thing"
   ]
  },
  {
   "cell_type": "code",
   "execution_count": 161,
   "id": "18f977c4",
   "metadata": {},
   "outputs": [
    {
     "name": "stdout",
     "output_type": "stream",
     "text": [
      "Hello, his name is raj.\n"
     ]
    }
   ],
   "source": [
    "print(f'Hello, his name is {name}.')"
   ]
  },
  {
   "cell_type": "code",
   "execution_count": null,
   "id": "f39c7292",
   "metadata": {},
   "outputs": [],
   "source": []
  }
 ],
 "metadata": {
  "kernelspec": {
   "display_name": "Python 3 (ipykernel)",
   "language": "python",
   "name": "python3"
  },
  "language_info": {
   "codemirror_mode": {
    "name": "ipython",
    "version": 3
   },
   "file_extension": ".py",
   "mimetype": "text/x-python",
   "name": "python",
   "nbconvert_exporter": "python",
   "pygments_lexer": "ipython3",
   "version": "3.9.12"
  }
 },
 "nbformat": 4,
 "nbformat_minor": 5
}
