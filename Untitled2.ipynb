{
 "cells": [
  {
   "cell_type": "code",
   "execution_count": 6,
   "id": "e60ee050",
   "metadata": {},
   "outputs": [],
   "source": [
    "Mylist =[1,2,3] #List can hold any type of data type wether it is string, char, int, float, etc."
   ]
  },
  {
   "cell_type": "code",
   "execution_count": 13,
   "id": "01e26f9c",
   "metadata": {},
   "outputs": [],
   "source": [
    "#Make sure python is case sensitive."
   ]
  },
  {
   "cell_type": "code",
   "execution_count": 14,
   "id": "28f9bffa",
   "metadata": {},
   "outputs": [],
   "source": [
    "#List : are tahe order sequence that can hold a varitty of object types \n",
    "#They are [] brackets and commas to separate objects in the list.\n",
    "#[1,3,2,4,5,6]\n",
    "#List support indexing and slicing. \n",
    "#Lists can be nested and also have a variety of useful methods that can be called off them."
   ]
  },
  {
   "cell_type": "code",
   "execution_count": 15,
   "id": "91f057e5",
   "metadata": {},
   "outputs": [],
   "source": [
    "mylist1 = ['satyam', 2,56, 25.8]"
   ]
  },
  {
   "cell_type": "code",
   "execution_count": 16,
   "id": "63185b3e",
   "metadata": {},
   "outputs": [
    {
     "data": {
      "text/plain": [
       "4"
      ]
     },
     "execution_count": 16,
     "metadata": {},
     "output_type": "execute_result"
    }
   ],
   "source": [
    "len(mylist1)"
   ]
  },
  {
   "cell_type": "code",
   "execution_count": 17,
   "id": "2bbfdceb",
   "metadata": {},
   "outputs": [
    {
     "data": {
      "text/plain": [
       "2"
      ]
     },
     "execution_count": 17,
     "metadata": {},
     "output_type": "execute_result"
    }
   ],
   "source": [
    "Mylist[1]"
   ]
  },
  {
   "cell_type": "code",
   "execution_count": 18,
   "id": "af6679d3",
   "metadata": {},
   "outputs": [
    {
     "data": {
      "text/plain": [
       "25.8"
      ]
     },
     "execution_count": 18,
     "metadata": {},
     "output_type": "execute_result"
    }
   ],
   "source": [
    "mylist1[3]"
   ]
  },
  {
   "cell_type": "code",
   "execution_count": 19,
   "id": "dc270bb4",
   "metadata": {},
   "outputs": [
    {
     "data": {
      "text/plain": [
       "['satyam', 2]"
      ]
     },
     "execution_count": 19,
     "metadata": {},
     "output_type": "execute_result"
    }
   ],
   "source": [
    "mylist1[:2]"
   ]
  },
  {
   "cell_type": "code",
   "execution_count": 20,
   "id": "e14cef26",
   "metadata": {},
   "outputs": [
    {
     "data": {
      "text/plain": [
       "[2, 56]"
      ]
     },
     "execution_count": 20,
     "metadata": {},
     "output_type": "execute_result"
    }
   ],
   "source": [
    "mylist1[1:3]"
   ]
  },
  {
   "cell_type": "code",
   "execution_count": 21,
   "id": "24b935dd",
   "metadata": {},
   "outputs": [
    {
     "data": {
      "text/plain": [
       "['satyam', 2, 56, 25.8]"
      ]
     },
     "execution_count": 21,
     "metadata": {},
     "output_type": "execute_result"
    }
   ],
   "source": [
    "mylist1"
   ]
  },
  {
   "cell_type": "code",
   "execution_count": 22,
   "id": "e7e9107c",
   "metadata": {},
   "outputs": [],
   "source": [
    "anotherlist = ['four','five']"
   ]
  },
  {
   "cell_type": "code",
   "execution_count": 31,
   "id": "25d7420b",
   "metadata": {},
   "outputs": [
    {
     "data": {
      "text/plain": [
       "['four', 'five']"
      ]
     },
     "execution_count": 31,
     "metadata": {},
     "output_type": "execute_result"
    }
   ],
   "source": [
    "anotherlist"
   ]
  },
  {
   "cell_type": "code",
   "execution_count": 34,
   "id": "c95b44d2",
   "metadata": {},
   "outputs": [],
   "source": [
    "Newlist = mylist1 + anotherlist\n"
   ]
  },
  {
   "cell_type": "code",
   "execution_count": 35,
   "id": "6883028c",
   "metadata": {},
   "outputs": [
    {
     "name": "stdout",
     "output_type": "stream",
     "text": [
      "['satyam', 2, 56, 25.8, 'four', 'five']\n"
     ]
    }
   ],
   "source": [
    "print(Newlist)"
   ]
  },
  {
   "cell_type": "code",
   "execution_count": 36,
   "id": "f90d7bd2",
   "metadata": {},
   "outputs": [
    {
     "data": {
      "text/plain": [
       "['satyam', 2, 56, 25.8, 'four', 'five']"
      ]
     },
     "execution_count": 36,
     "metadata": {},
     "output_type": "execute_result"
    }
   ],
   "source": [
    "Newlist"
   ]
  },
  {
   "cell_type": "code",
   "execution_count": 39,
   "id": "d4d85aeb",
   "metadata": {},
   "outputs": [],
   "source": [
    "Newlist.append(4)"
   ]
  },
  {
   "cell_type": "code",
   "execution_count": 40,
   "id": "d6b7f7d2",
   "metadata": {},
   "outputs": [
    {
     "data": {
      "text/plain": [
       "['satyam', 2, 56, 25.8, 'four', 'five', 4, 4]"
      ]
     },
     "execution_count": 40,
     "metadata": {},
     "output_type": "execute_result"
    }
   ],
   "source": [
    "Newlist"
   ]
  },
  {
   "cell_type": "code",
   "execution_count": 44,
   "id": "0718b6f4",
   "metadata": {},
   "outputs": [
    {
     "data": {
      "text/plain": [
       "'five'"
      ]
     },
     "execution_count": 44,
     "metadata": {},
     "output_type": "execute_result"
    }
   ],
   "source": [
    "Newlist.pop(4)"
   ]
  },
  {
   "cell_type": "code",
   "execution_count": 45,
   "id": "b2bca006",
   "metadata": {},
   "outputs": [
    {
     "name": "stdout",
     "output_type": "stream",
     "text": [
      "['satyam', 2, 56, 25.8, 4, 4]\n"
     ]
    }
   ],
   "source": [
    "print(Newlist)"
   ]
  },
  {
   "cell_type": "code",
   "execution_count": 48,
   "id": "616b8810",
   "metadata": {},
   "outputs": [
    {
     "data": {
      "text/plain": [
       "25.8"
      ]
     },
     "execution_count": 48,
     "metadata": {},
     "output_type": "execute_result"
    }
   ],
   "source": [
    "Newlist[3]"
   ]
  },
  {
   "cell_type": "code",
   "execution_count": 50,
   "id": "1af66f12",
   "metadata": {},
   "outputs": [
    {
     "data": {
      "text/plain": [
       "4"
      ]
     },
     "execution_count": 50,
     "metadata": {},
     "output_type": "execute_result"
    }
   ],
   "source": [
    "Newlist[5]"
   ]
  },
  {
   "cell_type": "code",
   "execution_count": 53,
   "id": "5aa7b958",
   "metadata": {},
   "outputs": [],
   "source": [
    "Newlist[0] = \"Satya\""
   ]
  },
  {
   "cell_type": "code",
   "execution_count": 54,
   "id": "f6d515ff",
   "metadata": {},
   "outputs": [
    {
     "data": {
      "text/plain": [
       "['Satya', 2, 56, 25.8, 4, 4]"
      ]
     },
     "execution_count": 54,
     "metadata": {},
     "output_type": "execute_result"
    }
   ],
   "source": [
    "Newlist"
   ]
  },
  {
   "cell_type": "code",
   "execution_count": 61,
   "id": "1760c212",
   "metadata": {},
   "outputs": [],
   "source": [
    "Newlist.append(2589.256) #this method is use to add the value at the end."
   ]
  },
  {
   "cell_type": "code",
   "execution_count": 62,
   "id": "d88c5919",
   "metadata": {},
   "outputs": [
    {
     "data": {
      "text/plain": [
       "['Satya', 2, 56, 25.8, 4, 4, 2589.256, 2589.256, 2589.256]"
      ]
     },
     "execution_count": 62,
     "metadata": {},
     "output_type": "execute_result"
    }
   ],
   "source": [
    "Newlist"
   ]
  },
  {
   "cell_type": "code",
   "execution_count": 66,
   "id": "bd50cc10",
   "metadata": {},
   "outputs": [],
   "source": [
    "Numlist = [5,8,9,45,56,48,32,21]"
   ]
  },
  {
   "cell_type": "code",
   "execution_count": 69,
   "id": "bae397c2",
   "metadata": {},
   "outputs": [],
   "source": [
    "Numlist.sort() #This will not return anything but this will help to get the list in the correct order "
   ]
  },
  {
   "cell_type": "code",
   "execution_count": 70,
   "id": "26e03fb2",
   "metadata": {},
   "outputs": [
    {
     "data": {
      "text/plain": [
       "[5, 8, 9, 21, 32, 45, 48, 56]"
      ]
     },
     "execution_count": 70,
     "metadata": {},
     "output_type": "execute_result"
    }
   ],
   "source": [
    "Numlist"
   ]
  },
  {
   "cell_type": "code",
   "execution_count": 74,
   "id": "3cdf1da7",
   "metadata": {},
   "outputs": [],
   "source": [
    "Numlist.sort()"
   ]
  },
  {
   "cell_type": "code",
   "execution_count": 80,
   "id": "5d6200b9",
   "metadata": {},
   "outputs": [
    {
     "data": {
      "text/plain": [
       "[5, 8, 9, 21, 32, 45, 48, 56]"
      ]
     },
     "execution_count": 80,
     "metadata": {},
     "output_type": "execute_result"
    }
   ],
   "source": [
    "Numlist"
   ]
  }
 ],
 "metadata": {
  "kernelspec": {
   "display_name": "Python 3 (ipykernel)",
   "language": "python",
   "name": "python3"
  },
  "language_info": {
   "codemirror_mode": {
    "name": "ipython",
    "version": 3
   },
   "file_extension": ".py",
   "mimetype": "text/x-python",
   "name": "python",
   "nbconvert_exporter": "python",
   "pygments_lexer": "ipython3",
   "version": "3.9.12"
  }
 },
 "nbformat": 4,
 "nbformat_minor": 5
}
