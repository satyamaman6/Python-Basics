{
 "cells": [
  {
   "cell_type": "code",
   "execution_count": 1,
   "id": "441e32fe",
   "metadata": {},
   "outputs": [],
   "source": [
    "#we are going to check the input output text file."
   ]
  },
  {
   "cell_type": "code",
   "execution_count": 61,
   "id": "288f50cd",
   "metadata": {},
   "outputs": [
    {
     "name": "stdout",
     "output_type": "stream",
     "text": [
      "Overwriting myfile.txt\n"
     ]
    }
   ],
   "source": [
    "%%writefile myfile.txt\n",
    "HEllo this is the text file.\n",
    "this is second line \n",
    "this is the third line\n"
   ]
  },
  {
   "cell_type": "markdown",
   "id": "ce91a909",
   "metadata": {},
   "source": [
    "myfile = open('myfile.txt)"
   ]
  },
  {
   "cell_type": "code",
   "execution_count": 62,
   "id": "024cb095",
   "metadata": {},
   "outputs": [],
   "source": [
    "myfile = open('myfile.txt')"
   ]
  },
  {
   "cell_type": "code",
   "execution_count": 63,
   "id": "9e67fd59",
   "metadata": {},
   "outputs": [],
   "source": [
    "#if we try to opne the wrong file then it will give error."
   ]
  },
  {
   "cell_type": "code",
   "execution_count": 64,
   "id": "081a71c9",
   "metadata": {},
   "outputs": [
    {
     "data": {
      "text/plain": [
       "'C:\\\\Users\\\\DELL\\\\Python_practice'"
      ]
     },
     "execution_count": 64,
     "metadata": {},
     "output_type": "execute_result"
    }
   ],
   "source": [
    "pwd"
   ]
  },
  {
   "cell_type": "code",
   "execution_count": 65,
   "id": "f022be15",
   "metadata": {},
   "outputs": [],
   "source": [
    "#how to get anyfile from system any path\n",
    "myfile = open('myfile.txt')"
   ]
  },
  {
   "cell_type": "code",
   "execution_count": 66,
   "id": "a5a176f6",
   "metadata": {},
   "outputs": [
    {
     "data": {
      "text/plain": [
       "'HEllo this is the text file.\\nthis is second line \\nthis is the third line\\n'"
      ]
     },
     "execution_count": 66,
     "metadata": {},
     "output_type": "execute_result"
    }
   ],
   "source": [
    "#READ THE  FILE \n",
    "myfile.read()\n",
    "#after running one time cursor move ahead and becasue of that it is giving blank result."
   ]
  },
  {
   "cell_type": "code",
   "execution_count": 67,
   "id": "52d6418a",
   "metadata": {},
   "outputs": [
    {
     "data": {
      "text/plain": [
       "0"
      ]
     },
     "execution_count": 67,
     "metadata": {},
     "output_type": "execute_result"
    }
   ],
   "source": [
    "myfile.seek(0)"
   ]
  },
  {
   "cell_type": "code",
   "execution_count": 68,
   "id": "91c3c9db",
   "metadata": {},
   "outputs": [
    {
     "data": {
      "text/plain": [
       "'HEllo this is the text file.\\nthis is second line \\nthis is the third line\\n'"
      ]
     },
     "execution_count": 68,
     "metadata": {},
     "output_type": "execute_result"
    }
   ],
   "source": [
    "myfile.read()"
   ]
  },
  {
   "cell_type": "code",
   "execution_count": 69,
   "id": "e288120f",
   "metadata": {},
   "outputs": [
    {
     "data": {
      "text/plain": [
       "[]"
      ]
     },
     "execution_count": 69,
     "metadata": {},
     "output_type": "execute_result"
    }
   ],
   "source": [
    "#create a line into list\n",
    "myfile.readlines()"
   ]
  },
  {
   "cell_type": "code",
   "execution_count": 70,
   "id": "bbc01443",
   "metadata": {},
   "outputs": [
    {
     "data": {
      "text/plain": [
       "0"
      ]
     },
     "execution_count": 70,
     "metadata": {},
     "output_type": "execute_result"
    }
   ],
   "source": [
    "myfile.seek(0)"
   ]
  },
  {
   "cell_type": "code",
   "execution_count": 71,
   "id": "02061781",
   "metadata": {},
   "outputs": [
    {
     "data": {
      "text/plain": [
       "['HEllo this is the text file.\\n',\n",
       " 'this is second line \\n',\n",
       " 'this is the third line\\n']"
      ]
     },
     "execution_count": 71,
     "metadata": {},
     "output_type": "execute_result"
    }
   ],
   "source": [
    "#this will create all the lines into list.\n",
    "myfile.readlines()"
   ]
  },
  {
   "cell_type": "code",
   "execution_count": 72,
   "id": "bb6bbbdf",
   "metadata": {},
   "outputs": [],
   "source": [
    "#how to open a file saved in another location.\n",
    "# provide the full file path"
   ]
  },
  {
   "cell_type": "code",
   "execution_count": null,
   "id": "2bfc5bb3",
   "metadata": {},
   "outputs": [],
   "source": []
  },
  {
   "cell_type": "code",
   "execution_count": 73,
   "id": "763dcf6c",
   "metadata": {},
   "outputs": [
    {
     "data": {
      "text/plain": [
       "'C:\\\\Users\\\\DELL\\\\Python_practice'"
      ]
     },
     "execution_count": 73,
     "metadata": {},
     "output_type": "execute_result"
    }
   ],
   "source": [
    "pwd"
   ]
  },
  {
   "cell_type": "code",
   "execution_count": 59,
   "id": "c390b7db",
   "metadata": {},
   "outputs": [
    {
     "data": {
      "text/plain": [
       "<function TextIOWrapper.close()>"
      ]
     },
     "execution_count": 59,
     "metadata": {},
     "output_type": "execute_result"
    }
   ],
   "source": [
    "myfile.close"
   ]
  },
  {
   "cell_type": "code",
   "execution_count": 76,
   "id": "f9b8248d",
   "metadata": {},
   "outputs": [],
   "source": [
    "with open('myfile.txt') as my_new_file:\n",
    "    content =my_new_file.read()\n",
    "    #After this command we don't need to close the file it will close automaticall\n",
    "    "
   ]
  },
  {
   "cell_type": "code",
   "execution_count": 77,
   "id": "011e4e4b",
   "metadata": {},
   "outputs": [
    {
     "data": {
      "text/plain": [
       "''"
      ]
     },
     "execution_count": 77,
     "metadata": {},
     "output_type": "execute_result"
    }
   ],
   "source": [
    "myfile.read()"
   ]
  },
  {
   "cell_type": "code",
   "execution_count": 81,
   "id": "ac37ae0a",
   "metadata": {},
   "outputs": [
    {
     "data": {
      "text/plain": [
       "0"
      ]
     },
     "execution_count": 81,
     "metadata": {},
     "output_type": "execute_result"
    }
   ],
   "source": [
    "myfile.seek(0)"
   ]
  },
  {
   "cell_type": "code",
   "execution_count": 82,
   "id": "b7b05734",
   "metadata": {},
   "outputs": [
    {
     "data": {
      "text/plain": [
       "'HEllo this is the text file.\\nthis is second line \\nthis is the third line\\n'"
      ]
     },
     "execution_count": 82,
     "metadata": {},
     "output_type": "execute_result"
    }
   ],
   "source": [
    "myfile.read()"
   ]
  },
  {
   "cell_type": "code",
   "execution_count": 90,
   "id": "3b39eef0",
   "metadata": {},
   "outputs": [],
   "source": [
    "with open('myfile.txt',mode ='a') as f:\n",
    "    f.write(\"This is the fouth line where i am trying to append in this file using method mode = 'a'\")"
   ]
  },
  {
   "cell_type": "code",
   "execution_count": 92,
   "id": "a1adeca6",
   "metadata": {},
   "outputs": [
    {
     "name": "stdout",
     "output_type": "stream",
     "text": [
      "HEllo this is the text file.\n",
      "this is second line \n",
      "this is the third line\n",
      "This is the fouth line where i am trying to append in this file using method mode = 'a'\n"
     ]
    }
   ],
   "source": [
    "with open('myfile.txt', mode = 'r')as f:\n",
    "    print(f.read())\n",
    "    #here it need to focus the file name given with extension \n",
    "    "
   ]
  },
  {
   "cell_type": "code",
   "execution_count": 94,
   "id": "bb1666a6",
   "metadata": {},
   "outputs": [],
   "source": [
    "#With using mode ='w' we can create a new file and write into it.\n",
    "#and we can read it as well with mode ='r'"
   ]
  },
  {
   "cell_type": "code",
   "execution_count": null,
   "id": "99a3b921",
   "metadata": {},
   "outputs": [],
   "source": []
  }
 ],
 "metadata": {
  "kernelspec": {
   "display_name": "Python 3 (ipykernel)",
   "language": "python",
   "name": "python3"
  },
  "language_info": {
   "codemirror_mode": {
    "name": "ipython",
    "version": 3
   },
   "file_extension": ".py",
   "mimetype": "text/x-python",
   "name": "python",
   "nbconvert_exporter": "python",
   "pygments_lexer": "ipython3",
   "version": "3.9.12"
  }
 },
 "nbformat": 4,
 "nbformat_minor": 5
}
