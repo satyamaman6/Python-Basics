{
 "cells": [
  {
   "cell_type": "code",
   "execution_count": 1,
   "id": "a107d892",
   "metadata": {},
   "outputs": [],
   "source": [
    "#Many object in python are iterable. Means we can iterate over every element in the object."
   ]
  },
  {
   "cell_type": "code",
   "execution_count": 2,
   "id": "81993033",
   "metadata": {},
   "outputs": [],
   "source": [
    "#element can be in list or every character of string"
   ]
  },
  {
   "cell_type": "code",
   "execution_count": 3,
   "id": "e0bb2909",
   "metadata": {},
   "outputs": [],
   "source": [
    "#syntax of for loop"
   ]
  },
  {
   "cell_type": "code",
   "execution_count": 4,
   "id": "08ddd7a0",
   "metadata": {},
   "outputs": [],
   "source": [
    "#myitem = [1,2,3]\n",
    "#for itemName in myitem:\n",
    "    #print(myitem)\n",
    "    \n",
    "#here itemName is variable.    "
   ]
  },
  {
   "cell_type": "code",
   "execution_count": 5,
   "id": "f2e8c1d6",
   "metadata": {},
   "outputs": [],
   "source": [
    "mylist = [1,2,3,4,5,6,7,8,9]"
   ]
  },
  {
   "cell_type": "code",
   "execution_count": 11,
   "id": "68fc3bac",
   "metadata": {},
   "outputs": [
    {
     "name": "stdout",
     "output_type": "stream",
     "text": [
      "HEllo World\n",
      "HEllo World\n",
      "HEllo World\n",
      "HEllo World\n",
      "HEllo World\n",
      "HEllo World\n",
      "HEllo World\n",
      "HEllo World\n",
      "HEllo World\n"
     ]
    }
   ],
   "source": [
    "for jelly in mylist: #here jelly is variable name we can have any name is variable.\n",
    "    print('HEllo World')"
   ]
  },
  {
   "cell_type": "code",
   "execution_count": 22,
   "id": "37522f16",
   "metadata": {},
   "outputs": [
    {
     "name": "stdout",
     "output_type": "stream",
     "text": [
      "2\n",
      "4\n",
      "6\n",
      "8\n"
     ]
    }
   ],
   "source": [
    "#printing Only even number.\n",
    "for num in mylist:\n",
    "    if num % 2 == 0:\n",
    "        print(num)"
   ]
  },
  {
   "cell_type": "code",
   "execution_count": 23,
   "id": "b97ba83e",
   "metadata": {},
   "outputs": [
    {
     "name": "stdout",
     "output_type": "stream",
     "text": [
      "1\n",
      "3\n",
      "5\n",
      "7\n",
      "9\n"
     ]
    }
   ],
   "source": [
    "for item in mylist:\n",
    "    if item % 2 != 0:\n",
    "        print(item)"
   ]
  },
  {
   "cell_type": "code",
   "execution_count": 26,
   "id": "dfaf8465",
   "metadata": {},
   "outputs": [
    {
     "name": "stdout",
     "output_type": "stream",
     "text": [
      " odd number:1\n",
      " odd number:3\n",
      " odd number:5\n",
      " odd number:7\n",
      " odd number:9\n"
     ]
    }
   ],
   "source": [
    "for item in mylist:\n",
    "    if item % 2 != 0:\n",
    "        print(f' odd number:{item}')"
   ]
  },
  {
   "cell_type": "code",
   "execution_count": 37,
   "id": "87804491",
   "metadata": {},
   "outputs": [
    {
     "name": "stdout",
     "output_type": "stream",
     "text": [
      "1\n",
      "3\n",
      "6\n",
      "10\n",
      "15\n",
      "21\n",
      "28\n",
      "36\n",
      "45\n",
      "45\n"
     ]
    }
   ],
   "source": [
    "list_sum = 0\n",
    "\n",
    "for item in mylist:\n",
    "    list_sum = list_sum + item\n",
    "    print(list_sum)\n",
    "    \n",
    "print(list_sum)"
   ]
  },
  {
   "cell_type": "code",
   "execution_count": 49,
   "id": "caf65fa1",
   "metadata": {},
   "outputs": [
    {
     "name": "stdout",
     "output_type": "stream",
     "text": [
      "H\n",
      "e\n",
      "l\n",
      "l\n",
      "o\n",
      " \n",
      "w\n",
      "o\n",
      "r\n",
      "l\n",
      "d\n",
      ".\n",
      " \n",
      "M\n",
      "y\n",
      " \n",
      "n\n",
      "a\n",
      "m\n",
      "a\n",
      " \n",
      "i\n",
      "s\n",
      " \n",
      "s\n",
      "a\n",
      "t\n",
      "y\n",
      "a\n",
      "m\n"
     ]
    }
   ],
   "source": [
    "mystring = \"Hello world. My nama is satyam\"\n",
    "\n",
    "for alpha in mystring:\n",
    "    print(alpha)"
   ]
  },
  {
   "cell_type": "code",
   "execution_count": 51,
   "id": "2ff86e5e",
   "metadata": {},
   "outputs": [],
   "source": [
    "#tuple unpacking\n",
    "\n",
    "mytup = [(1,2),(3,4),(5,6),(7,8)]"
   ]
  },
  {
   "cell_type": "code",
   "execution_count": 52,
   "id": "71435e49",
   "metadata": {},
   "outputs": [
    {
     "data": {
      "text/plain": [
       "4"
      ]
     },
     "execution_count": 52,
     "metadata": {},
     "output_type": "execute_result"
    }
   ],
   "source": [
    "len(mytup)"
   ]
  },
  {
   "cell_type": "code",
   "execution_count": null,
   "id": "fc912734",
   "metadata": {},
   "outputs": [],
   "source": [
    "for (a,b)"
   ]
  }
 ],
 "metadata": {
  "kernelspec": {
   "display_name": "Python 3 (ipykernel)",
   "language": "python",
   "name": "python3"
  },
  "language_info": {
   "codemirror_mode": {
    "name": "ipython",
    "version": 3
   },
   "file_extension": ".py",
   "mimetype": "text/x-python",
   "name": "python",
   "nbconvert_exporter": "python",
   "pygments_lexer": "ipython3",
   "version": "3.9.12"
  }
 },
 "nbformat": 4,
 "nbformat_minor": 5
}
