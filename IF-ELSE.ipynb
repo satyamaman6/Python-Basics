{
 "cells": [
  {
   "cell_type": "code",
   "execution_count": 1,
   "id": "2a8293db",
   "metadata": {},
   "outputs": [],
   "source": [
    "#iF\n",
    "#ELIF\n",
    "#ELSE"
   ]
  },
  {
   "cell_type": "code",
   "execution_count": 2,
   "id": "eb80e5f6",
   "metadata": {},
   "outputs": [],
   "source": [
    "#control flow syntax"
   ]
  },
  {
   "cell_type": "code",
   "execution_count": 3,
   "id": "08d51891",
   "metadata": {},
   "outputs": [],
   "source": [
    "#indentation is Important \n",
    "#syntax\n",
    "#if some_condition:\n",
    "    #execute some code\n",
    "#elif some_other condition:\n",
    "    #do somethig differnt\n",
    "#else:\n",
    "    #do something else\n",
    "    "
   ]
  },
  {
   "cell_type": "code",
   "execution_count": 4,
   "id": "2604e710",
   "metadata": {},
   "outputs": [
    {
     "name": "stdout",
     "output_type": "stream",
     "text": [
      "It's True!\n"
     ]
    }
   ],
   "source": [
    "if True:\n",
    "    print(\"It's True!\")"
   ]
  },
  {
   "cell_type": "code",
   "execution_count": 5,
   "id": "443f3969",
   "metadata": {},
   "outputs": [
    {
     "name": "stdout",
     "output_type": "stream",
     "text": [
      "yes it is true\n"
     ]
    }
   ],
   "source": [
    "if 3 > 2:\n",
    "    print(\"yes it is true\")"
   ]
  },
  {
   "cell_type": "code",
   "execution_count": 8,
   "id": "30b0e67f",
   "metadata": {},
   "outputs": [
    {
     "name": "stdout",
     "output_type": "stream",
     "text": [
      "This mathematical condition is true\n"
     ]
    }
   ],
   "source": [
    "if 4<2:\n",
    "    print(\"It's true\")\n",
    "elif 45 > 25:\n",
    "    print('This mathematical condition is true')"
   ]
  },
  {
   "cell_type": "code",
   "execution_count": 9,
   "id": "7a5391b9",
   "metadata": {},
   "outputs": [
    {
     "name": "stdout",
     "output_type": "stream",
     "text": [
      "It's not working\n"
     ]
    }
   ],
   "source": [
    "if 4<2:\n",
    "    print(\"It's true\")\n",
    "elif 5 > 5:\n",
    "    print('This mathematical condition is true')\n",
    "else:\n",
    "    print(\"It's not working\")\n",
    "    "
   ]
  },
  {
   "cell_type": "code",
   "execution_count": 10,
   "id": "ad923210",
   "metadata": {},
   "outputs": [],
   "source": [
    "#to put more and more condition we need to give elif condition more."
   ]
  },
  {
   "cell_type": "code",
   "execution_count": null,
   "id": "99728695",
   "metadata": {},
   "outputs": [],
   "source": []
  }
 ],
 "metadata": {
  "kernelspec": {
   "display_name": "Python 3 (ipykernel)",
   "language": "python",
   "name": "python3"
  },
  "language_info": {
   "codemirror_mode": {
    "name": "ipython",
    "version": 3
   },
   "file_extension": ".py",
   "mimetype": "text/x-python",
   "name": "python",
   "nbconvert_exporter": "python",
   "pygments_lexer": "ipython3",
   "version": "3.9.12"
  }
 },
 "nbformat": 4,
 "nbformat_minor": 5
}
