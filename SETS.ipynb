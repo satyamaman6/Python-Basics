{
 "cells": [
  {
   "cell_type": "code",
   "execution_count": 1,
   "id": "7f18f020",
   "metadata": {},
   "outputs": [],
   "source": [
    "#sets"
   ]
  },
  {
   "cell_type": "code",
   "execution_count": 2,
   "id": "d14c4fa8",
   "metadata": {},
   "outputs": [],
   "source": [
    "#Undorder collection of unique element. such as "
   ]
  },
  {
   "cell_type": "code",
   "execution_count": 3,
   "id": "c355e67b",
   "metadata": {},
   "outputs": [],
   "source": [
    "myset = set()"
   ]
  },
  {
   "cell_type": "code",
   "execution_count": 4,
   "id": "89aa2837",
   "metadata": {},
   "outputs": [
    {
     "data": {
      "text/plain": [
       "set()"
      ]
     },
     "execution_count": 4,
     "metadata": {},
     "output_type": "execute_result"
    }
   ],
   "source": [
    "myset"
   ]
  },
  {
   "cell_type": "code",
   "execution_count": 5,
   "id": "69023695",
   "metadata": {},
   "outputs": [],
   "source": [
    "myset.add(1)"
   ]
  },
  {
   "cell_type": "code",
   "execution_count": 6,
   "id": "1798e25d",
   "metadata": {},
   "outputs": [
    {
     "data": {
      "text/plain": [
       "{1}"
      ]
     },
     "execution_count": 6,
     "metadata": {},
     "output_type": "execute_result"
    }
   ],
   "source": [
    "myset"
   ]
  },
  {
   "cell_type": "code",
   "execution_count": 7,
   "id": "ce6966cb",
   "metadata": {},
   "outputs": [],
   "source": [
    "myset.add(\"amazon\")"
   ]
  },
  {
   "cell_type": "code",
   "execution_count": 9,
   "id": "de9ddcac",
   "metadata": {},
   "outputs": [
    {
     "data": {
      "text/plain": [
       "{1, 'amazon'}"
      ]
     },
     "execution_count": 9,
     "metadata": {},
     "output_type": "execute_result"
    }
   ],
   "source": [
    "myset"
   ]
  },
  {
   "cell_type": "code",
   "execution_count": 12,
   "id": "2f947db2",
   "metadata": {},
   "outputs": [],
   "source": [
    "myset.add(1) #here i am trying to add 1 again in the set that is available in the set then the value will not add."
   ]
  },
  {
   "cell_type": "code",
   "execution_count": 13,
   "id": "35ae50df",
   "metadata": {},
   "outputs": [
    {
     "data": {
      "text/plain": [
       "{1, 'amazon'}"
      ]
     },
     "execution_count": 13,
     "metadata": {},
     "output_type": "execute_result"
    }
   ],
   "source": [
    "myset"
   ]
  },
  {
   "cell_type": "code",
   "execution_count": 14,
   "id": "897da53e",
   "metadata": {},
   "outputs": [],
   "source": [
    "#IT show the unique values."
   ]
  },
  {
   "cell_type": "code",
   "execution_count": 16,
   "id": "5ff2c5de",
   "metadata": {},
   "outputs": [],
   "source": [
    "mylist = [1,1,1,2,2,3,3,3,3,4,4,4,4,5,5,6,6,6,6,5,7,7,8,8,8,7]"
   ]
  },
  {
   "cell_type": "code",
   "execution_count": 18,
   "id": "573b8408",
   "metadata": {},
   "outputs": [
    {
     "data": {
      "text/plain": [
       "{1, 2, 3, 4, 5, 6, 7, 8}"
      ]
     },
     "execution_count": 18,
     "metadata": {},
     "output_type": "execute_result"
    }
   ],
   "source": [
    "set(mylist) #here we are converting list into sets"
   ]
  },
  {
   "cell_type": "code",
   "execution_count": null,
   "id": "f0b3f28b",
   "metadata": {},
   "outputs": [],
   "source": []
  }
 ],
 "metadata": {
  "kernelspec": {
   "display_name": "Python 3 (ipykernel)",
   "language": "python",
   "name": "python3"
  },
  "language_info": {
   "codemirror_mode": {
    "name": "ipython",
    "version": 3
   },
   "file_extension": ".py",
   "mimetype": "text/x-python",
   "name": "python",
   "nbconvert_exporter": "python",
   "pygments_lexer": "ipython3",
   "version": "3.9.12"
  }
 },
 "nbformat": 4,
 "nbformat_minor": 5
}
