{
 "cells": [
  {
   "cell_type": "code",
   "execution_count": 1,
   "id": "911698b3",
   "metadata": {},
   "outputs": [],
   "source": [
    "#Dictionaries"
   ]
  },
  {
   "cell_type": "code",
   "execution_count": 3,
   "id": "1cf35531",
   "metadata": {},
   "outputs": [],
   "source": [
    "#Unorder mapping of object to store objects. \n",
    "#It use key value pair that help user to grab object quickly and for that we don't need index position."
   ]
  },
  {
   "cell_type": "code",
   "execution_count": 6,
   "id": "c8a43a58",
   "metadata": {},
   "outputs": [],
   "source": [
    "#Here we use {} and ; to specify the keys and their associated values. It cannot be sorted ever as list can be."
   ]
  },
  {
   "cell_type": "code",
   "execution_count": 7,
   "id": "2d3e1797",
   "metadata": {},
   "outputs": [],
   "source": [
    "# {'Key1':'value1','key2':'value2','key3':'value3'}"
   ]
  },
  {
   "cell_type": "code",
   "execution_count": 8,
   "id": "89219fdc",
   "metadata": {},
   "outputs": [],
   "source": [
    "#List can be ordered sequence, can be indexed or sliced."
   ]
  },
  {
   "cell_type": "code",
   "execution_count": 9,
   "id": "e3ffb294",
   "metadata": {},
   "outputs": [],
   "source": [
    "my_dict = {'Key1':'value1','key2':'value2','key3':'value3'}"
   ]
  },
  {
   "cell_type": "code",
   "execution_count": 13,
   "id": "4a426a10",
   "metadata": {},
   "outputs": [
    {
     "data": {
      "text/plain": [
       "{'Key1': 'value1', 'key2': 'value2', 'key3': 'value3'}"
      ]
     },
     "execution_count": 13,
     "metadata": {},
     "output_type": "execute_result"
    }
   ],
   "source": [
    "my_dict"
   ]
  },
  {
   "cell_type": "code",
   "execution_count": 16,
   "id": "7a9c0807",
   "metadata": {},
   "outputs": [
    {
     "data": {
      "text/plain": [
       "'value1'"
      ]
     },
     "execution_count": 16,
     "metadata": {},
     "output_type": "execute_result"
    }
   ],
   "source": [
    "my_dict['Key1']"
   ]
  },
  {
   "cell_type": "code",
   "execution_count": 17,
   "id": "907b4ffe",
   "metadata": {},
   "outputs": [
    {
     "data": {
      "text/plain": [
       "'value2'"
      ]
     },
     "execution_count": 17,
     "metadata": {},
     "output_type": "execute_result"
    }
   ],
   "source": [
    "my_dict['key2']"
   ]
  },
  {
   "cell_type": "code",
   "execution_count": 29,
   "id": "f7023323",
   "metadata": {},
   "outputs": [],
   "source": [
    "WBS = {'Flipkart': 'https://www.flipkart.com/', 'Amazon':'https://www.amazon.in/?&ext_vrnc=hi&tag=googhydrabk1-21&ref=pd_sl_7hz2t19t5c_e&adgrpid=58355126069&hvpone=&hvptwo=&hvadid=486458706470&hvpos=&hvnetw=g&hvrand=12732585204448289730&hvqmt=e&hvdev=c&hvdvcmdl=&hvlocint=&hvlocphy=1007749&hvtargid=kwd-10573980&hydadcr=14453_2154373', 'Ebay': 'https://www.ebay.com/', 'Blue Dart':'https://www.bluedart.com/'}"
   ]
  },
  {
   "cell_type": "code",
   "execution_count": 31,
   "id": "a3a96a34",
   "metadata": {},
   "outputs": [
    {
     "data": {
      "text/plain": [
       "{'Flipkart': 'https://www.flipkart.com/',\n",
       " 'Amazon': 'https://www.amazon.in/?&ext_vrnc=hi&tag=googhydrabk1-21&ref=pd_sl_7hz2t19t5c_e&adgrpid=58355126069&hvpone=&hvptwo=&hvadid=486458706470&hvpos=&hvnetw=g&hvrand=12732585204448289730&hvqmt=e&hvdev=c&hvdvcmdl=&hvlocint=&hvlocphy=1007749&hvtargid=kwd-10573980&hydadcr=14453_2154373',\n",
       " 'Ebay': 'https://www.ebay.com/',\n",
       " 'Blue Dart': 'https://www.bluedart.com/'}"
      ]
     },
     "execution_count": 31,
     "metadata": {},
     "output_type": "execute_result"
    }
   ],
   "source": [
    "WBS"
   ]
  },
  {
   "cell_type": "code",
   "execution_count": 33,
   "id": "82f7fc48",
   "metadata": {},
   "outputs": [
    {
     "data": {
      "text/plain": [
       "'https://www.flipkart.com/'"
      ]
     },
     "execution_count": 33,
     "metadata": {},
     "output_type": "execute_result"
    }
   ],
   "source": [
    "WBS['Flipkart']"
   ]
  },
  {
   "cell_type": "code",
   "execution_count": 38,
   "id": "06307cc9",
   "metadata": {},
   "outputs": [
    {
     "data": {
      "text/plain": [
       "'https://www.ebay.com/'"
      ]
     },
     "execution_count": 38,
     "metadata": {},
     "output_type": "execute_result"
    }
   ],
   "source": [
    "WBS['Ebay']"
   ]
  },
  {
   "cell_type": "code",
   "execution_count": 39,
   "id": "b5ab023f",
   "metadata": {},
   "outputs": [],
   "source": [
    "#WBS[2] #this will provide error and it is not possible to extract values by index number"
   ]
  },
  {
   "cell_type": "code",
   "execution_count": 40,
   "id": "e345bbbe",
   "metadata": {},
   "outputs": [],
   "source": [
    "#Dictionary are very flexible to hold the values."
   ]
  },
  {
   "cell_type": "code",
   "execution_count": 43,
   "id": "ec600bdb",
   "metadata": {},
   "outputs": [],
   "source": [
    "#We can have dictionry inside the dictionary.\n",
    "#Such as"
   ]
  },
  {
   "cell_type": "code",
   "execution_count": 51,
   "id": "0d7de688",
   "metadata": {},
   "outputs": [],
   "source": [
    "value = {'Ke1':[0,2,5,6,9,8,7,3],'Key':'Flipkart','key2':{'insidekey':100}}"
   ]
  },
  {
   "cell_type": "code",
   "execution_count": 52,
   "id": "0ec9be30",
   "metadata": {},
   "outputs": [
    {
     "data": {
      "text/plain": [
       "'Flipkart'"
      ]
     },
     "execution_count": 52,
     "metadata": {},
     "output_type": "execute_result"
    }
   ],
   "source": [
    "value['Key']"
   ]
  },
  {
   "cell_type": "code",
   "execution_count": 58,
   "id": "2fde095a",
   "metadata": {},
   "outputs": [
    {
     "data": {
      "text/plain": [
       "2"
      ]
     },
     "execution_count": 58,
     "metadata": {},
     "output_type": "execute_result"
    }
   ],
   "source": [
    "value['Ke1'][1] #to extract the exact value from the list which is inside the Dictionary."
   ]
  },
  {
   "cell_type": "code",
   "execution_count": 59,
   "id": "e98c4a9c",
   "metadata": {},
   "outputs": [
    {
     "data": {
      "text/plain": [
       "6"
      ]
     },
     "execution_count": 59,
     "metadata": {},
     "output_type": "execute_result"
    }
   ],
   "source": [
    "value['Ke1'][3]"
   ]
  },
  {
   "cell_type": "code",
   "execution_count": 60,
   "id": "0e474ba5",
   "metadata": {},
   "outputs": [
    {
     "data": {
      "text/plain": [
       "{'insidekey': 100}"
      ]
     },
     "execution_count": 60,
     "metadata": {},
     "output_type": "execute_result"
    }
   ],
   "source": [
    "value['key2']"
   ]
  },
  {
   "cell_type": "code",
   "execution_count": 62,
   "id": "2ac4227b",
   "metadata": {},
   "outputs": [
    {
     "data": {
      "text/plain": [
       "100"
      ]
     },
     "execution_count": 62,
     "metadata": {},
     "output_type": "execute_result"
    }
   ],
   "source": [
    "value['key2']['insidekey']"
   ]
  },
  {
   "cell_type": "code",
   "execution_count": 64,
   "id": "8b275c66",
   "metadata": {},
   "outputs": [],
   "source": [
    "mylist1 = value['Ke1']"
   ]
  },
  {
   "cell_type": "code",
   "execution_count": 69,
   "id": "c9ec047d",
   "metadata": {},
   "outputs": [
    {
     "data": {
      "text/plain": [
       "[0, 2, 5, 6, 9, 8, 7, 3]"
      ]
     },
     "execution_count": 69,
     "metadata": {},
     "output_type": "execute_result"
    }
   ],
   "source": [
    "mylist1"
   ]
  },
  {
   "cell_type": "code",
   "execution_count": 71,
   "id": "a2ffc694",
   "metadata": {},
   "outputs": [
    {
     "data": {
      "text/plain": [
       "9"
      ]
     },
     "execution_count": 71,
     "metadata": {},
     "output_type": "execute_result"
    }
   ],
   "source": [
    "mylist1[4]"
   ]
  },
  {
   "cell_type": "code",
   "execution_count": 72,
   "id": "90fef56f",
   "metadata": {},
   "outputs": [
    {
     "data": {
      "text/plain": [
       "5"
      ]
     },
     "execution_count": 72,
     "metadata": {},
     "output_type": "execute_result"
    }
   ],
   "source": [
    "mylist1[2]"
   ]
  },
  {
   "cell_type": "code",
   "execution_count": 74,
   "id": "0dc47769",
   "metadata": {},
   "outputs": [],
   "source": [
    "#add value to the dictionary\n",
    "value['k3'] = \"Amazon\"\n",
    "\n",
    "\n"
   ]
  },
  {
   "cell_type": "code",
   "execution_count": 75,
   "id": "b92dce9d",
   "metadata": {},
   "outputs": [
    {
     "data": {
      "text/plain": [
       "{'Ke1': [0, 2, 5, 6, 9, 8, 7, 3],\n",
       " 'Key': 'Flipkart',\n",
       " 'key2': {'insidekey': 100},\n",
       " 'k3': 'Amazon'}"
      ]
     },
     "execution_count": 75,
     "metadata": {},
     "output_type": "execute_result"
    }
   ],
   "source": [
    "value"
   ]
  },
  {
   "cell_type": "code",
   "execution_count": 77,
   "id": "33c7ceea",
   "metadata": {},
   "outputs": [
    {
     "data": {
      "text/plain": [
       "dict_values([[0, 2, 5, 6, 9, 8, 7, 3], 'Flipkart', {'insidekey': 100}, 'Amazon'])"
      ]
     },
     "execution_count": 77,
     "metadata": {},
     "output_type": "execute_result"
    }
   ],
   "source": [
    "value.values()"
   ]
  },
  {
   "cell_type": "code",
   "execution_count": 81,
   "id": "0a46a2b1",
   "metadata": {},
   "outputs": [
    {
     "data": {
      "text/plain": [
       "dict_items([('Ke1', [0, 2, 5, 6, 9, 8, 7, 3]), ('Key', 'Flipkart'), ('key2', {'insidekey': 100}), ('k3', 'Amazon')])"
      ]
     },
     "execution_count": 81,
     "metadata": {},
     "output_type": "execute_result"
    }
   ],
   "source": [
    "value.items()"
   ]
  },
  {
   "cell_type": "code",
   "execution_count": 85,
   "id": "a62f75be",
   "metadata": {},
   "outputs": [],
   "source": [
    "#key should always be string that help easily to extract the values."
   ]
  },
  {
   "cell_type": "code",
   "execution_count": null,
   "id": "dcdcb72d",
   "metadata": {},
   "outputs": [],
   "source": []
  },
  {
   "cell_type": "code",
   "execution_count": null,
   "id": "53ecbcfa",
   "metadata": {},
   "outputs": [],
   "source": []
  }
 ],
 "metadata": {
  "kernelspec": {
   "display_name": "Python 3 (ipykernel)",
   "language": "python",
   "name": "python3"
  },
  "language_info": {
   "codemirror_mode": {
    "name": "ipython",
    "version": 3
   },
   "file_extension": ".py",
   "mimetype": "text/x-python",
   "name": "python",
   "nbconvert_exporter": "python",
   "pygments_lexer": "ipython3",
   "version": "3.9.12"
  }
 },
 "nbformat": 4,
 "nbformat_minor": 5
}
